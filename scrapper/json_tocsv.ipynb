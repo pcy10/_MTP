{
  "nbformat": 4,
  "nbformat_minor": 0,
  "metadata": {
    "colab": {
      "provenance": []
    },
    "kernelspec": {
      "name": "python3",
      "display_name": "Python 3"
    },
    "language_info": {
      "name": "python"
    }
  },
  "cells": [
    {
      "cell_type": "code",
      "source": [
        "import csv\n",
        "import json\n",
        "\n",
        "# JSON data\n",
        "\n",
        "with open('codeforces.json', 'r') as f:\n",
        "    data = json.load(f)\n",
        "\n",
        "# Write data to CSV\n",
        "csv_file = 'problems.csv'\n",
        "\n",
        "with open(csv_file, mode='w', newline='') as file:\n",
        "    writer = csv.writer(file)\n",
        "\n",
        "    # Write the header\n",
        "    writer.writerow(['uid', 'url', 'tags', 'statement', 'contestId', 'index', 'rating', 'result'])\n",
        "\n",
        "    # Write each problem's data\n",
        "    for problem in data:\n",
        "        for processed in problem['processed']:\n",
        "            writer.writerow([\n",
        "                problem['uid'],  # uid\n",
        "                problem['url'],  # url\n",
        "                ', '.join(problem['tags']),  # tags\n",
        "                problem['statement'].replace('$$', '\\n\\n').replace('$', ''),  # statement with inline/block math fix\n",
        "                problem['contestId'],  # contestId\n",
        "                problem['index'],  # index\n",
        "                problem['rating'],  # rating\n",
        "                processed['result']  # result\n",
        "            ])\n",
        "\n",
        "print(f\"CSV file '{csv_file}' created successfully!\")\n"
      ],
      "metadata": {
        "colab": {
          "base_uri": "https://localhost:8080/"
        },
        "id": "c6VJ5KH5a3e9",
        "outputId": "f65eae7a-e92a-4db0-b559-ab9aabde6287"
      },
      "execution_count": 21,
      "outputs": [
        {
          "output_type": "stream",
          "name": "stdout",
          "text": [
            "CSV file 'problems.csv' created successfully!\n"
          ]
        }
      ]
    }
  ]
}